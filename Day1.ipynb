{
  "nbformat": 4,
  "nbformat_minor": 0,
  "metadata": {
    "colab": {
      "provenance": []
    },
    "kernelspec": {
      "name": "python3",
      "display_name": "Python 3"
    },
    "language_info": {
      "name": "python"
    }
  },
  "cells": [
    {
      "cell_type": "code",
      "execution_count": 5,
      "metadata": {
        "colab": {
          "base_uri": "https://localhost:8080/"
        },
        "id": "GXyzWgM_Z2iJ",
        "outputId": "cab7ce31-03cf-48cd-9bbd-969284288c48"
      },
      "outputs": [
        {
          "output_type": "stream",
          "name": "stdout",
          "text": [
            "suba\n",
            "varsha\n"
          ]
        }
      ],
      "source": [
        "x=\"suba\"\n",
        "y=\"varsha\"\n",
        "print(x)\n",
        "print(y)"
      ]
    },
    {
      "cell_type": "code",
      "source": [
        "a=100\n",
        "b=200"
      ],
      "metadata": {
        "id": "ce_f72VTeAzo"
      },
      "execution_count": 6,
      "outputs": []
    },
    {
      "cell_type": "code",
      "source": [
        "print(a+b)"
      ],
      "metadata": {
        "colab": {
          "base_uri": "https://localhost:8080/"
        },
        "id": "0nWFUPPYemfO",
        "outputId": "5d58ecff-02a1-437b-8bad-703917bb79d6"
      },
      "execution_count": 7,
      "outputs": [
        {
          "output_type": "stream",
          "name": "stdout",
          "text": [
            "300\n"
          ]
        }
      ]
    },
    {
      "cell_type": "code",
      "source": [
        "price=99.99\n",
        "print(price)"
      ],
      "metadata": {
        "colab": {
          "base_uri": "https://localhost:8080/"
        },
        "id": "zKqBoPw6e5cn",
        "outputId": "a103e5d5-a53b-4d73-8e59-c0d436837eb5"
      },
      "execution_count": 8,
      "outputs": [
        {
          "output_type": "stream",
          "name": "stdout",
          "text": [
            "99.99\n"
          ]
        }
      ]
    },
    {
      "cell_type": "code",
      "source": [
        "is_valid=True\n",
        "print(is_valid)\n"
      ],
      "metadata": {
        "colab": {
          "base_uri": "https://localhost:8080/"
        },
        "id": "owm0tpeUgaWN",
        "outputId": "e36c442c-d5b8-452e-dccd-f505f6941c8f"
      },
      "execution_count": 9,
      "outputs": [
        {
          "output_type": "stream",
          "name": "stdout",
          "text": [
            "True\n"
          ]
        }
      ]
    },
    {
      "cell_type": "code",
      "source": [
        "x,y,z=10,20,30\n",
        "print(x,y,z)"
      ],
      "metadata": {
        "colab": {
          "base_uri": "https://localhost:8080/"
        },
        "id": "IVgwkCl7go-N",
        "outputId": "42acc1af-854b-496c-aaa6-441dfc779c55"
      },
      "execution_count": 10,
      "outputs": [
        {
          "output_type": "stream",
          "name": "stdout",
          "text": [
            "10 20 30\n"
          ]
        }
      ]
    },
    {
      "cell_type": "code",
      "source": [
        "p=q=r=100\n",
        "print(p,q,r)"
      ],
      "metadata": {
        "colab": {
          "base_uri": "https://localhost:8080/"
        },
        "id": "Epv9b1iCg0nl",
        "outputId": "4e74861e-21f4-4ddf-badb-61cb06084ec8"
      },
      "execution_count": 11,
      "outputs": [
        {
          "output_type": "stream",
          "name": "stdout",
          "text": [
            "100 100 100\n"
          ]
        }
      ]
    },
    {
      "cell_type": "code",
      "source": [
        "age=25\n",
        "print(age)"
      ],
      "metadata": {
        "colab": {
          "base_uri": "https://localhost:8080/"
        },
        "id": "GdMVknrkg-p1",
        "outputId": "39fcb346-27d9-432f-f2f5-9f92e1743fd4"
      },
      "execution_count": 12,
      "outputs": [
        {
          "output_type": "stream",
          "name": "stdout",
          "text": [
            "25\n"
          ]
        }
      ]
    },
    {
      "cell_type": "code",
      "source": [
        "age=30\n",
        "print(age)"
      ],
      "metadata": {
        "colab": {
          "base_uri": "https://localhost:8080/"
        },
        "id": "nJtkIzRthIT3",
        "outputId": "eceb63bf-2b0e-455d-c09a-5de1ef68f72c"
      },
      "execution_count": 13,
      "outputs": [
        {
          "output_type": "stream",
          "name": "stdout",
          "text": [
            "30\n"
          ]
        }
      ]
    },
    {
      "cell_type": "code",
      "source": [
        "value=50\n",
        "del value"
      ],
      "metadata": {
        "id": "dm-5fSTphPnt"
      },
      "execution_count": 14,
      "outputs": []
    },
    {
      "cell_type": "code",
      "source": [
        "#print(value)#this will cause an error since value is deleted"
      ],
      "metadata": {
        "id": "MPQh21FLhdTt"
      },
      "execution_count": 15,
      "outputs": []
    },
    {
      "cell_type": "code",
      "source": [
        "message=\"Hello,World!\"\n",
        "print(len(message))"
      ],
      "metadata": {
        "colab": {
          "base_uri": "https://localhost:8080/"
        },
        "id": "uNhaVZvqhrBW",
        "outputId": "8f0c8ea0-9ac0-4146-faec-d5682c2d6ebc"
      },
      "execution_count": 16,
      "outputs": [
        {
          "output_type": "stream",
          "name": "stdout",
          "text": [
            "12\n"
          ]
        }
      ]
    },
    {
      "cell_type": "code",
      "source": [
        "data=42\n",
        "print(data)"
      ],
      "metadata": {
        "colab": {
          "base_uri": "https://localhost:8080/"
        },
        "id": "AMXcHzGnh6B1",
        "outputId": "d4eaf634-404d-4087-b09e-c19b5aad6827"
      },
      "execution_count": 17,
      "outputs": [
        {
          "output_type": "stream",
          "name": "stdout",
          "text": [
            "42\n"
          ]
        }
      ]
    },
    {
      "cell_type": "code",
      "source": [
        "data=str(data)\n",
        "print(data)"
      ],
      "metadata": {
        "colab": {
          "base_uri": "https://localhost:8080/"
        },
        "id": "sx6zPvz0iATm",
        "outputId": "12d21014-0210-4d97-ec59-1291eaeccb38"
      },
      "execution_count": 18,
      "outputs": [
        {
          "output_type": "stream",
          "name": "stdout",
          "text": [
            "42\n"
          ]
        }
      ]
    },
    {
      "cell_type": "code",
      "source": [
        "num=5\n",
        "if num>0:\n",
        "   print(\"Positive Number\")"
      ],
      "metadata": {
        "colab": {
          "base_uri": "https://localhost:8080/"
        },
        "id": "Vol5B66SkxAN",
        "outputId": "2e9d0ec9-d542-41c2-f2fe-b424a4e83cac"
      },
      "execution_count": 20,
      "outputs": [
        {
          "output_type": "stream",
          "name": "stdout",
          "text": [
            "Positive Number\n"
          ]
        }
      ]
    },
    {
      "cell_type": "code",
      "source": [
        "age=20\n",
        "if age>=18:\n",
        "  print(\"Eligible to vote\")\n",
        "else:\n",
        "  print(\"Not eligible to vote\")"
      ],
      "metadata": {
        "colab": {
          "base_uri": "https://localhost:8080/"
        },
        "id": "rUWuuxLmlLoM",
        "outputId": "0ee74fd9-c6b5-4048-aaa8-4a06cd09cbad"
      },
      "execution_count": 23,
      "outputs": [
        {
          "output_type": "stream",
          "name": "stdout",
          "text": [
            "Eligible to vote\n"
          ]
        }
      ]
    },
    {
      "cell_type": "code",
      "source": [
        "num=-3\n",
        "if num>0:\n",
        "  print(\"Positive\")\n",
        "elif num<0:\n",
        "  print(\"Negative\")\n",
        "else:\n",
        "  print(\"Zero\")"
      ],
      "metadata": {
        "colab": {
          "base_uri": "https://localhost:8080/"
        },
        "id": "AKA-aVzJmBkt",
        "outputId": "72e3d937-7823-41be-b510-fa791ffdd4df"
      },
      "execution_count": 26,
      "outputs": [
        {
          "output_type": "stream",
          "name": "stdout",
          "text": [
            "Negative\n"
          ]
        }
      ]
    },
    {
      "cell_type": "code",
      "source": [
        "num=7\n",
        "if num%2==0:\n",
        "  print(\"Even\")\n",
        "else:\n",
        "  print(\"Odd\")"
      ],
      "metadata": {
        "colab": {
          "base_uri": "https://localhost:8080/"
        },
        "id": "PVNSUKsHm_mG",
        "outputId": "a84bdfae-58b3-41d8-96e4-675c8b72b12c"
      },
      "execution_count": 27,
      "outputs": [
        {
          "output_type": "stream",
          "name": "stdout",
          "text": [
            "Odd\n"
          ]
        }
      ]
    },
    {
      "cell_type": "code",
      "source": [
        "num=8\n",
        "if num>0:\n",
        "  if num%2==0:\n",
        "    print(\"Positive and Even\")"
      ],
      "metadata": {
        "colab": {
          "base_uri": "https://localhost:8080/"
        },
        "id": "_M919eU6nVCk",
        "outputId": "34df240b-6db4-4002-c9d4-0a4ace88b932"
      },
      "execution_count": 28,
      "outputs": [
        {
          "output_type": "stream",
          "name": "stdout",
          "text": [
            "Positive and Even\n"
          ]
        }
      ]
    },
    {
      "cell_type": "code",
      "source": [
        "x=10\n",
        "if x==10:print(\"Python is cool\")"
      ],
      "metadata": {
        "colab": {
          "base_uri": "https://localhost:8080/"
        },
        "id": "7CX5jiqYoExF",
        "outputId": "10ea0480-1823-4e03-ec95-cb72fc1f0566"
      },
      "execution_count": 29,
      "outputs": [
        {
          "output_type": "stream",
          "name": "stdout",
          "text": [
            "Python is cool\n"
          ]
        }
      ]
    },
    {
      "cell_type": "code",
      "source": [
        "num=12\n",
        "print(\"Even\"if num%2==0 else \"Odd\")"
      ],
      "metadata": {
        "colab": {
          "base_uri": "https://localhost:8080/"
        },
        "id": "xB_220ASoVcc",
        "outputId": "48973e41-56ac-47f2-c82f-379f78a68b50"
      },
      "execution_count": 30,
      "outputs": [
        {
          "output_type": "stream",
          "name": "stdout",
          "text": [
            "Even\n"
          ]
        }
      ]
    },
    {
      "cell_type": "code",
      "source": [
        "text=\"I love python programming\"\n",
        "if\"python\"in text:\n",
        "  print(\"String contains'python'\")"
      ],
      "metadata": {
        "colab": {
          "base_uri": "https://localhost:8080/"
        },
        "id": "nUox7cn5okQ0",
        "outputId": "40fc5565-bd89-4be7-c8f9-a64f92b3a788"
      },
      "execution_count": 31,
      "outputs": [
        {
          "output_type": "stream",
          "name": "stdout",
          "text": [
            "String contains'python'\n"
          ]
        }
      ]
    },
    {
      "cell_type": "code",
      "source": [
        "num=15\n",
        "if num%3==0 and num%5==0:\n",
        "  print(\"Divisible by both 3and5\")\n",
        "else:\n",
        "  print(\"Not divisible by both 3 and 5\")"
      ],
      "metadata": {
        "colab": {
          "base_uri": "https://localhost:8080/"
        },
        "id": "HRwmMnxhpJhd",
        "outputId": "27831eda-bf89-43e3-a586-df55ccb727a3"
      },
      "execution_count": 32,
      "outputs": [
        {
          "output_type": "stream",
          "name": "stdout",
          "text": [
            "Divisible by both 3and5\n"
          ]
        }
      ]
    },
    {
      "cell_type": "code",
      "source": [
        "year=2024\n",
        "if(year % 4==0 and year % 100!=0)or(year % 400==0):\n",
        "  print(\"Leap Year\")\n",
        "else:\n",
        "  print(\"Not a Leap Year\")"
      ],
      "metadata": {
        "colab": {
          "base_uri": "https://localhost:8080/"
        },
        "id": "Zw6faiMXp2H8",
        "outputId": "a29a5ff2-5606-4d50-ecd6-38948a84bd09"
      },
      "execution_count": 36,
      "outputs": [
        {
          "output_type": "stream",
          "name": "stdout",
          "text": [
            "Leap Year\n"
          ]
        }
      ]
    }
  ]
}